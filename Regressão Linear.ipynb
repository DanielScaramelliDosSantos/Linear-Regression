{
 "cells": [
  {
   "cell_type": "markdown",
   "id": "6dc38f30",
   "metadata": {},
   "source": [
    "## Introdução "
   ]
  },
  {
   "cell_type": "code",
   "execution_count": 2,
   "id": "550cb853",
   "metadata": {},
   "outputs": [],
   "source": [
    "import pandas as pd\n",
    "import numpy as np\n",
    "import seaborn as sns"
   ]
  },
  {
   "cell_type": "code",
   "execution_count": 3,
   "id": "460649d4",
   "metadata": {},
   "outputs": [],
   "source": [
    "df = pd.read_excel('Renda_Fuvest.xlsx')"
   ]
  },
  {
   "cell_type": "code",
   "execution_count": 4,
   "id": "0426d378",
   "metadata": {},
   "outputs": [
    {
     "data": {
      "text/html": [
       "<div>\n",
       "<style scoped>\n",
       "    .dataframe tbody tr th:only-of-type {\n",
       "        vertical-align: middle;\n",
       "    }\n",
       "\n",
       "    .dataframe tbody tr th {\n",
       "        vertical-align: top;\n",
       "    }\n",
       "\n",
       "    .dataframe thead th {\n",
       "        text-align: right;\n",
       "    }\n",
       "</style>\n",
       "<table border=\"1\" class=\"dataframe\">\n",
       "  <thead>\n",
       "    <tr style=\"text-align: right;\">\n",
       "      <th></th>\n",
       "      <th>Mediana de Renda (em SM)</th>\n",
       "      <th>Poli_Prod</th>\n",
       "      <th>Med_Pinheiros</th>\n",
       "      <th>FFLCH_LetrasMatutino</th>\n",
       "    </tr>\n",
       "  </thead>\n",
       "  <tbody>\n",
       "    <tr>\n",
       "      <th>0</th>\n",
       "      <td>2021</td>\n",
       "      <td>8.03</td>\n",
       "      <td>7.75</td>\n",
       "      <td>5.59</td>\n",
       "    </tr>\n",
       "    <tr>\n",
       "      <th>1</th>\n",
       "      <td>2020</td>\n",
       "      <td>9.25</td>\n",
       "      <td>5.83</td>\n",
       "      <td>6.52</td>\n",
       "    </tr>\n",
       "    <tr>\n",
       "      <th>2</th>\n",
       "      <td>2019</td>\n",
       "      <td>12.50</td>\n",
       "      <td>8.21</td>\n",
       "      <td>6.33</td>\n",
       "    </tr>\n",
       "    <tr>\n",
       "      <th>3</th>\n",
       "      <td>2018</td>\n",
       "      <td>10.35</td>\n",
       "      <td>8.32</td>\n",
       "      <td>5.98</td>\n",
       "    </tr>\n",
       "    <tr>\n",
       "      <th>4</th>\n",
       "      <td>2017</td>\n",
       "      <td>14.41</td>\n",
       "      <td>10.34</td>\n",
       "      <td>6.23</td>\n",
       "    </tr>\n",
       "  </tbody>\n",
       "</table>\n",
       "</div>"
      ],
      "text/plain": [
       "   Mediana de Renda (em SM)  Poli_Prod  Med_Pinheiros  FFLCH_LetrasMatutino\n",
       "0                      2021       8.03           7.75                  5.59\n",
       "1                      2020       9.25           5.83                  6.52\n",
       "2                      2019      12.50           8.21                  6.33\n",
       "3                      2018      10.35           8.32                  5.98\n",
       "4                      2017      14.41          10.34                  6.23"
      ]
     },
     "execution_count": 4,
     "metadata": {},
     "output_type": "execute_result"
    }
   ],
   "source": [
    "df"
   ]
  },
  {
   "cell_type": "code",
   "execution_count": 5,
   "id": "a57791a7",
   "metadata": {},
   "outputs": [
    {
     "data": {
      "text/html": [
       "<div>\n",
       "<style scoped>\n",
       "    .dataframe tbody tr th:only-of-type {\n",
       "        vertical-align: middle;\n",
       "    }\n",
       "\n",
       "    .dataframe tbody tr th {\n",
       "        vertical-align: top;\n",
       "    }\n",
       "\n",
       "    .dataframe thead th {\n",
       "        text-align: right;\n",
       "    }\n",
       "</style>\n",
       "<table border=\"1\" class=\"dataframe\">\n",
       "  <thead>\n",
       "    <tr style=\"text-align: right;\">\n",
       "      <th></th>\n",
       "      <th>Mediana de Renda (em SM)</th>\n",
       "      <th>Poli_Prod</th>\n",
       "      <th>Med_Pinheiros</th>\n",
       "      <th>FFLCH_LetrasMatutino</th>\n",
       "    </tr>\n",
       "  </thead>\n",
       "  <tbody>\n",
       "    <tr>\n",
       "      <th>count</th>\n",
       "      <td>5.000000</td>\n",
       "      <td>5.000000</td>\n",
       "      <td>5.000000</td>\n",
       "      <td>5.000000</td>\n",
       "    </tr>\n",
       "    <tr>\n",
       "      <th>mean</th>\n",
       "      <td>2019.000000</td>\n",
       "      <td>10.908000</td>\n",
       "      <td>8.090000</td>\n",
       "      <td>6.130000</td>\n",
       "    </tr>\n",
       "    <tr>\n",
       "      <th>std</th>\n",
       "      <td>1.581139</td>\n",
       "      <td>2.556447</td>\n",
       "      <td>1.608804</td>\n",
       "      <td>0.359235</td>\n",
       "    </tr>\n",
       "    <tr>\n",
       "      <th>min</th>\n",
       "      <td>2017.000000</td>\n",
       "      <td>8.030000</td>\n",
       "      <td>5.830000</td>\n",
       "      <td>5.590000</td>\n",
       "    </tr>\n",
       "    <tr>\n",
       "      <th>25%</th>\n",
       "      <td>2018.000000</td>\n",
       "      <td>9.250000</td>\n",
       "      <td>7.750000</td>\n",
       "      <td>5.980000</td>\n",
       "    </tr>\n",
       "    <tr>\n",
       "      <th>50%</th>\n",
       "      <td>2019.000000</td>\n",
       "      <td>10.350000</td>\n",
       "      <td>8.210000</td>\n",
       "      <td>6.230000</td>\n",
       "    </tr>\n",
       "    <tr>\n",
       "      <th>75%</th>\n",
       "      <td>2020.000000</td>\n",
       "      <td>12.500000</td>\n",
       "      <td>8.320000</td>\n",
       "      <td>6.330000</td>\n",
       "    </tr>\n",
       "    <tr>\n",
       "      <th>max</th>\n",
       "      <td>2021.000000</td>\n",
       "      <td>14.410000</td>\n",
       "      <td>10.340000</td>\n",
       "      <td>6.520000</td>\n",
       "    </tr>\n",
       "  </tbody>\n",
       "</table>\n",
       "</div>"
      ],
      "text/plain": [
       "       Mediana de Renda (em SM)  Poli_Prod  Med_Pinheiros  \\\n",
       "count                  5.000000   5.000000       5.000000   \n",
       "mean                2019.000000  10.908000       8.090000   \n",
       "std                    1.581139   2.556447       1.608804   \n",
       "min                 2017.000000   8.030000       5.830000   \n",
       "25%                 2018.000000   9.250000       7.750000   \n",
       "50%                 2019.000000  10.350000       8.210000   \n",
       "75%                 2020.000000  12.500000       8.320000   \n",
       "max                 2021.000000  14.410000      10.340000   \n",
       "\n",
       "       FFLCH_LetrasMatutino  \n",
       "count              5.000000  \n",
       "mean               6.130000  \n",
       "std                0.359235  \n",
       "min                5.590000  \n",
       "25%                5.980000  \n",
       "50%                6.230000  \n",
       "75%                6.330000  \n",
       "max                6.520000  "
      ]
     },
     "execution_count": 5,
     "metadata": {},
     "output_type": "execute_result"
    }
   ],
   "source": [
    "df.describe()"
   ]
  },
  {
   "cell_type": "markdown",
   "id": "0295c828",
   "metadata": {},
   "source": [
    "**Informações Importantes:**\n",
    "1. Entre 2007 e 2016, a Fuvest oferecia bônus (Inclusp) a alunos de escola pública na nota final, que, entre 2014 e 2016, poderia resultar em um aumento de até 25% da nota final. \n",
    "2. A partir de 2017, foram adotadas políticas de ação afirmativa baseadas em cotas para alunos de escola pública, com duas subdivisões: EP, para alunos de escola pública independente de características fenotípicas; e PPI, exclusiva para alunos de escola pública pardos, pretos ou indígenas.\n",
    "3. Em 2017, o percentual de contemplados era de 30% do total de aprovados na USP. A cada ano, esse percentual aumentou 5%, até chegar à meta preestabelecida de em 50%, em 2021.\n",
    "4. No entanto, como há duas formas de ingresso na USP - Fuvest e ENEM - algumas faculdades sofreram alterações pouco significativas no corpo discente ingressante via Fuvest, dado que, sobretudo nas faculdades de humanas, optou-se por destinar a maior parcela das vagas reservadas a EP/PPI para o ingresso via ENEM, considerado um exame mais democrático que a Fuvest."
   ]
  },
  {
   "cell_type": "markdown",
   "id": "101bafbf",
   "metadata": {},
   "source": [
    "**Escopo do Projeto:** analisar, a partir de regressão linear, a variação da renda mediana (em salários mínimos) dos alunos ingressantes pela Fuvest ao longo do período em que houve alteração do percentual de cotas (2017-2021). Para tanto, foram analisados 3 cursos, um de cada área do conhecimento: Engenharia de Produção (EPUSP), Medicina (FM) e Letras Matutino (FFLCH)"
   ]
  },
  {
   "cell_type": "markdown",
   "id": "f180b67a",
   "metadata": {},
   "source": [
    "## Fundamentos de Regressão Linear"
   ]
  },
  {
   "cell_type": "markdown",
   "id": "aa785228",
   "metadata": {},
   "source": [
    "A regressão linear é obtida através de um processo relativamente simples:\n",
    "1. Definir a variável dependente Y (no caso, a renda mediana de cada curso) e a variável independente X (no caso, o ano da Fuvest)\n",
    "2. Correlacionar essas duas variáveis a partir de uma equação linear: Y = α + (β * X)\n",
    "3. Estimar os valores dos coeficientes α e β a partir das fórmulas abaixo:"
   ]
  },
  {
   "attachments": {
    "beta.jpg": {
     "image/jpeg": "[encoded data removed]"
    }
   },
   "cell_type": "markdown",
   "id": "803c73ef",
   "metadata": {},
   "source": [
    "![beta.jpg](attachment:beta.jpg)"
   ]
  },
  {
   "attachments": {
    "alfa.jpg": {
     "image/jpeg": "[encoded data removed]"
    }
   },
   "cell_type": "markdown",
   "id": "601d71cf",
   "metadata": {},
   "source": [
    "![alfa.jpg](attachment:alfa.jpg)"
   ]
  },
  {
   "cell_type": "markdown",
   "id": "dd081557",
   "metadata": {},
   "source": [
    "Encontrados os coeficientes, basta plotar a equação no gráfico de dispersão e teremos nossa regressão linear. Além disso, podemos obter métricas importantes para verificar o quão bom é o ajuste da reta a nossos dados, como o R^2, cuja escala varia de 0 a 1 - sendo 0 nenhuma correlação linear e 1 correlação linear total. Para obter esta métrica, precisamos da soma de quadrados residual (RSS ou SQR) e a soma de quadrados total (TSS ou SQT) "
   ]
  },
  {
   "attachments": {
    "RSS.jpg": {
     "image/jpeg": "[encoded data removed]"
    }
   },
   "cell_type": "markdown",
   "id": "31a20646",
   "metadata": {},
   "source": [
    "![RSS.jpg](attachment:RSS.jpg)"
   ]
  },
  {
   "attachments": {
    "TSS.jpg": {
     "image/jpeg": "[encoded data removed]"
    }
   },
   "cell_type": "markdown",
   "id": "76b8f404",
   "metadata": {},
   "source": [
    "![TSS.jpg](attachment:TSS.jpg)"
   ]
  },
  {
   "attachments": {
    "R2.jpg": {
     "image/jpeg": "[encoded data removed]"
    }
   },
   "cell_type": "markdown",
   "id": "2f32e54d",
   "metadata": {},
   "source": [
    "![R2.jpg](attachment:R2.jpg)"
   ]
  },
  {
   "cell_type": "markdown",
   "id": "24fd3bfc",
   "metadata": {},
   "source": [
    "## Funções"
   ]
  },
  {
   "cell_type": "code",
   "execution_count": 6,
   "id": "4167372c",
   "metadata": {},
   "outputs": [],
   "source": [
    "df_poli = df[['Mediana de Renda (em SM)',\"Poli_Prod\"]]\n",
    "df_med = df[['Mediana de Renda (em SM)',\"Med_Pinheiros\"]]\n",
    "df_letras = df[['Mediana de Renda (em SM)',\"FFLCH_LetrasMatutino\"]]"
   ]
  },
  {
   "cell_type": "code",
   "execution_count": 7,
   "id": "7fec92ef",
   "metadata": {},
   "outputs": [],
   "source": [
    "def beta(df):\n",
    "    num_1 = 0\n",
    "    num_2 = 0\n",
    "    num = 0\n",
    "    denom = 0\n",
    "    x_media = np.mean(df.iloc[:,0])\n",
    "    y_media = np.mean(df.iloc[:,1])\n",
    "    for i in range(0,5):\n",
    "        num_1 = df.iloc[i,0] - x_media\n",
    "        num_2 = df.iloc[i,1] - y_media\n",
    "        num = num + num_1*num_2\n",
    "        denom = denom + num_1*num_1\n",
    "    beta = num/denom\n",
    "    return beta"
   ]
  },
  {
   "cell_type": "code",
   "execution_count": 8,
   "id": "f8a41353",
   "metadata": {},
   "outputs": [],
   "source": [
    "def alfa(df,beta):\n",
    "    x_media = np.mean(df.iloc[:,0])\n",
    "    y_media = np.mean(df.iloc[:,1])\n",
    "    alfa = y_media - beta*x_media\n",
    "    return alfa"
   ]
  },
  {
   "cell_type": "code",
   "execution_count": 9,
   "id": "cf843159",
   "metadata": {},
   "outputs": [],
   "source": [
    "def r2(df, alfa, beta):\n",
    "    RSS = 0\n",
    "    TSS = 0\n",
    "    x_media = np.mean(df.iloc[:,0])\n",
    "    y_media = np.mean(df.iloc[:,1])\n",
    "    for i in range(0,5):\n",
    "        y_esp = beta*df.iloc[i, 0] + alfa\n",
    "        RSS = RSS + (df.iloc[i, 1] - y_esp)**2\n",
    "        TSS = TSS + (df.iloc[i, 1] - y_media)**2\n",
    "    r2 = (TSS - RSS)/TSS\n",
    "    return r2"
   ]
  },
  {
   "cell_type": "markdown",
   "id": "09a42348",
   "metadata": {},
   "source": [
    "## Engenharia de Produção"
   ]
  },
  {
   "cell_type": "code",
   "execution_count": 10,
   "id": "5c3e5f39",
   "metadata": {},
   "outputs": [
    {
     "name": "stdout",
     "output_type": "stream",
     "text": [
      "Y =  -1.39 X + 2809.24\n"
     ]
    }
   ],
   "source": [
    "#Equação Linear\n",
    "beta_poli = beta(df_poli)\n",
    "alfa_poli = alfa(df_poli, beta_poli)\n",
    "print(\"Y = \",beta_poli.round(2),\"X\",\"+\", alfa_poli.round(2))"
   ]
  },
  {
   "cell_type": "code",
   "execution_count": 11,
   "id": "075edfd8",
   "metadata": {},
   "outputs": [
    {
     "name": "stdout",
     "output_type": "stream",
     "text": [
      "O coeficiente de determinação é de: 0.735\n"
     ]
    }
   ],
   "source": [
    "#Coeficiente de Determinação\n",
    "r2_poli = r2(df_poli, alfa_poli, beta_poli)\n",
    "print(\"O coeficiente de determinação é de:\", r2_poli.round(3))"
   ]
  },
  {
   "cell_type": "markdown",
   "id": "8f165689",
   "metadata": {},
   "source": [
    "**Conclusão:** foi possível perceber que a reta de regressão se ajusta bem aos dados obtidos, o que pode ser comprovado por um valor de coeficiente de determinação relativamente alto. Portanto, podemos concluir que, no curso de Engenharia de Produção, a política de cotas adotada pela Universidade de São Paulo contribuiu para progressiva diminuição da renda mediana e, portanto, pluralizou/democratizou o acesso ao curso"
   ]
  },
  {
   "cell_type": "markdown",
   "id": "35675b79",
   "metadata": {},
   "source": [
    "## Medicina"
   ]
  },
  {
   "cell_type": "code",
   "execution_count": 12,
   "id": "064bbe6c",
   "metadata": {},
   "outputs": [
    {
     "name": "stdout",
     "output_type": "stream",
     "text": [
      "Y =  -0.77 X + 1556.66\n"
     ]
    }
   ],
   "source": [
    "#Equação Linear\n",
    "beta_med = beta(df_med)\n",
    "alfa_med = alfa(df_med, beta_med)\n",
    "print(\"Y = \",beta_med.round(2),\"X\",\"+\", alfa_med.round(2))"
   ]
  },
  {
   "cell_type": "code",
   "execution_count": 13,
   "id": "e2677c43",
   "metadata": {},
   "outputs": [
    {
     "name": "stdout",
     "output_type": "stream",
     "text": [
      "O coeficiente de determinação é de: 0.568\n"
     ]
    }
   ],
   "source": [
    "#Coeficiente de Determinação\n",
    "r2_med = r2(df_med, alfa_med, beta_med)\n",
    "print(\"O coeficiente de determinação é de:\", r2_med.round(3))"
   ]
  },
  {
   "cell_type": "markdown",
   "id": "cf502038",
   "metadata": {},
   "source": [
    "**Conclusão:** os mesmos efeitos percebidos em Engenharia de Produção também foram observados em Medicina, ainda que de forma mais sutil, com um coeficiente de determinação um pouco menor. Mesmo assim, é notável progressiva redução da renda mediana dos alunos do mais concorrido curso da USP."
   ]
  },
  {
   "cell_type": "markdown",
   "id": "d9561ac7",
   "metadata": {},
   "source": [
    "## Letras (Matutino)"
   ]
  },
  {
   "cell_type": "code",
   "execution_count": 14,
   "id": "534ba4cd",
   "metadata": {},
   "outputs": [
    {
     "name": "stdout",
     "output_type": "stream",
     "text": [
      "Y =  -0.07 X + 155.54\n"
     ]
    }
   ],
   "source": [
    "#Equação Linear\n",
    "beta_letras = beta(df_letras)\n",
    "alfa_letras = alfa(df_letras, beta_letras)\n",
    "print(\"Y = \",beta_letras.round(2),\"X\",\"+\", alfa_letras.round(2))"
   ]
  },
  {
   "cell_type": "code",
   "execution_count": 15,
   "id": "1c211dd8",
   "metadata": {},
   "outputs": [
    {
     "name": "stdout",
     "output_type": "stream",
     "text": [
      "O coeficiente de determinação é de: 0.106\n"
     ]
    }
   ],
   "source": [
    "#Coeficiente de Determinação\n",
    "r2_letras = r2(df_letras, alfa_letras, beta_letras)\n",
    "print(\"O coeficiente de determinação é de:\", r2_letras.round(3))"
   ]
  },
  {
   "cell_type": "markdown",
   "id": "5b072fe4",
   "metadata": {},
   "source": [
    "**Conclusão:** como o coeficiente de determinação é muito baixo, é possível dizer que, em Letras, o perfil do corpo discente ingressante pela Fuvest não sofreu grandes alterações. No entanto, é importante lembrar que a maioria das vagas reservadas a EP e PPI do curso são disponibilizadas a partir do ingresso via ENEM, logo o percentual de vagas AC via Fuvest não sofreu alterações significativas no período, contribuindo para manutenção do patamar socioeconômico."
   ]
  },
  {
   "cell_type": "markdown",
   "id": "8ea3555e",
   "metadata": {},
   "source": [
    "## Visualização dos Dados"
   ]
  },
  {
   "cell_type": "code",
   "execution_count": 16,
   "id": "3ab5f300",
   "metadata": {
    "scrolled": false
   },
   "outputs": [
    {
     "data": {
      "image/png": "[encoded data removed]",
      "text/plain": [
       "<Figure size 360x900 with 3 Axes>"
      ]
     },
     "metadata": {},
     "output_type": "display_data"
    }
   ],
   "source": [
    "sns.pairplot(df, x_vars=[\"Mediana de Renda (em SM)\"], y_vars=[\"Poli_Prod\",\"Med_Pinheiros\",\"FFLCH_LetrasMatutino\"], plot_kws={'color':'orange'}, height=3, aspect=1.2, kind=\"reg\");"
   ]
  }
 ],
 "metadata": {
  "kernelspec": {
   "display_name": "Python 3 (ipykernel)",
   "language": "python",
   "name": "python3"
  },
  "language_info": {
   "codemirror_mode": {
    "name": "ipython",
    "version": 3
   },
   "file_extension": ".py",
   "mimetype": "text/x-python",
   "name": "python",
   "nbconvert_exporter": "python",
   "pygments_lexer": "ipython3",
   "version": "3.9.13"
  }
 },
 "nbformat": 4,
 "nbformat_minor": 5
}
